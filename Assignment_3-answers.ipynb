{
 "cells": [
  {
   "cell_type": "markdown",
   "id": "8bf2d7de",
   "metadata": {},
   "source": [
    "1. Why are functions advantageous to have in your programs?\n",
    "\n",
    "Ans: Functions reduce the need for duplicate code. This makes programs shorter, easier to read, and easier to update.\n",
    "    \n",
    "2. When does the code in a function run: when it's specified or when it's called?\n",
    "\n",
    "Ans: When a function is defined, it simply sets up the instructions for what should happen when the function is called. The actual execution of those instructions occurs only when the function is invoked/called elsewhere in the code.\n",
    "\n",
    "3. What statement creates a function?\n",
    "\n",
    "Ans: The def statement defines/creates a function.\n",
    "\n",
    "4. What is the difference between a function and a function call?\n",
    "\n",
    "Ans: A function, which is typically defined with a name, parameters (optional) and a body containing a block of code, perfomrs a specific task. \n",
    "On the other hand, a function call is the act of executing a function to perform its task.\n",
    "\n",
    "5. How many global scopes are there in a Python program? How many local scopes?\n",
    "\n",
    "Ans: In a Python program, there is one global scope and Local scopes are created whenever a function is called."
   ]
  },
  {
   "cell_type": "code",
   "execution_count": 5,
   "id": "72b9f6c3",
   "metadata": {},
   "outputs": [
    {
     "name": "stdout",
     "output_type": "stream",
     "text": [
      "Inside the function - local_var: 20\n",
      "Inside the function - global_var: 10\n",
      "Outside the function - global_var: 10\n"
     ]
    }
   ],
   "source": [
    "# Global scope\n",
    "global_var = 10\n",
    "\n",
    "def my_function():\n",
    "    # Local scope within the function\n",
    "    local_var = 20\n",
    "    print(\"Inside the function - local_var:\", local_var)  # Accessing local variable\n",
    "    print(\"Inside the function - global_var:\", global_var)  # Accessing global variable\n",
    "\n",
    "my_function()\n",
    "\n",
    "print(\"Outside the function - global_var:\", global_var)  # Accessing global variable\n",
    "#print(\"Outside the function - local_var:\", local_var)  # This line would cause an error as local_var can only be accessed within the function in which it is defined."
   ]
  },
  {
   "cell_type": "markdown",
   "id": "93a8aa27",
   "metadata": {},
   "source": [
    "6. What happens to variables in a local scope when the function call returns?\n",
    "\n",
    "Ans: When a function returns, the local scope is destroyed, and all the variables in it are forgotten.\n",
    "\n",
    "7. What is the concept of a return value? Is it possible to have a return value in an expression?\n",
    "\n",
    "Ans: The concept of a return value pertains to functions in programming. When a function is called, it may perform some computation and optionally returns a value back to the caller. This returned value can then be used by the caller in further computations, assignments, or any other necessary tasks. In the below example, the add() function takes two arguments- a and b, adds them together and returns the result. The returned value (a + b) is then assigned to the variable result and printed."
   ]
  },
  {
   "cell_type": "code",
   "execution_count": 6,
   "id": "fe8b0533",
   "metadata": {},
   "outputs": [
    {
     "name": "stdout",
     "output_type": "stream",
     "text": [
      "8\n"
     ]
    }
   ],
   "source": [
    "def add(a, b):\n",
    "    return a + b\n",
    "\n",
    "result = add(6, 4)\n",
    "print(result)"
   ]
  },
  {
   "cell_type": "markdown",
   "id": "eccd4ed8",
   "metadata": {},
   "source": [
    "The return value is not an expression on its own, it can be used as part of an expression. In the below example, the multiply() function returns the result of a * b, which is then used as part of the expression--> multiply(4, 6) + 2."
   ]
  },
  {
   "cell_type": "code",
   "execution_count": 7,
   "id": "41113790",
   "metadata": {},
   "outputs": [
    {
     "name": "stdout",
     "output_type": "stream",
     "text": [
      "26\n"
     ]
    }
   ],
   "source": [
    "def multiply(a, b):\n",
    "    return a * b\n",
    "\n",
    "result = multiply(4, 6) + 2\n",
    "print(result)"
   ]
  },
  {
   "cell_type": "markdown",
   "id": "6256c899",
   "metadata": {},
   "source": [
    "8. If a function does not have a return statement, what is the return value of a call to that function?\n",
    "\n",
    "Ans: If a function does not explicitly include a return statement, it still returns a default value. The return value of such a function is None which is a special built-in constant in Python that represents the absence of a value or a null value. Below is an example."
   ]
  },
  {
   "cell_type": "code",
   "execution_count": 8,
   "id": "456a0665",
   "metadata": {},
   "outputs": [
    {
     "name": "stdout",
     "output_type": "stream",
     "text": [
      "Good Morning!, Alice\n",
      "None\n"
     ]
    }
   ],
   "source": [
    "def greet(name):\n",
    "    print(\"Good Morning!,\", name)\n",
    "\n",
    "result = greet(\"Alice\")\n",
    "print(result)"
   ]
  },
  {
   "cell_type": "markdown",
   "id": "5091621d",
   "metadata": {},
   "source": [
    "9. How do you make a function variable refer to the global variable?\n",
    "\n",
    "Ans: If you want to access or modify a global variable from within a function, you can use the global keyword to indicate that the variable being referenced or modified is from the global scope. Below is the example."
   ]
  },
  {
   "cell_type": "code",
   "execution_count": 12,
   "id": "f91851a2",
   "metadata": {},
   "outputs": [
    {
     "name": "stdout",
     "output_type": "stream",
     "text": [
      "50\n"
     ]
    }
   ],
   "source": [
    "global_var = 10\n",
    "\n",
    "def my_function():\n",
    "    global global_var  # Declare global_var as a global variable within the function\n",
    "    global_var *= 5    # Modify the global variable\n",
    "\n",
    "my_function()\n",
    "\n",
    "print(global_var)"
   ]
  },
  {
   "cell_type": "markdown",
   "id": "5ad7e48b",
   "metadata": {},
   "source": [
    "10. What is the data type of None?\n",
    "Ans: The data type of None is NoneType.\n",
    "\n",
    "11. What does the sentence import areallyourpetsnamederic do?\n",
    "\n",
    "Ans: The sentence \"import areallyourpetsnamederic\" is not a standard Python import statement and it does not import any built-in Python module. \n",
    "However, if someone creates a module named \"areallyourpetsnamederic.py\", then the sentence \"import areallyourpetsnamederic\" would import that custom module into the current Python script or session.\n",
    "\n",
    "12. If you had a bacon() feature in a spam module, what would you call it after importing spam?\n",
    "\n",
    "Ans: Suppose I have a Python file named spam.py containing the following code:\n",
    "\n",
    "# spam.py\n",
    "def bacon():\n",
    "    print(\"This is the bacon function from the spam module!\")\n",
    "    \n",
    "Then, in another Python script I want to use the bacon() function, so I will be importing the spam module and call the bacon() function like below:\n",
    "\n",
    "# main.py\n",
    "import spam\n",
    "spam.bacon()"
   ]
  },
  {
   "cell_type": "markdown",
   "id": "e59ccc5d",
   "metadata": {},
   "source": [
    "13. What can you do to save a programme from crashing if it encounters an error?\n",
    "\n",
    "Ans: We can use \"try\" and \"except\" blocks to save a programme from crashing if it encounters an error. \n",
    "    "
   ]
  },
  {
   "cell_type": "code",
   "execution_count": 15,
   "id": "8a066a5d",
   "metadata": {},
   "outputs": [
    {
     "name": "stdout",
     "output_type": "stream",
     "text": [
      "An error occurred: division by zero\n"
     ]
    }
   ],
   "source": [
    "try:\n",
    "    # Code that might raise an error\n",
    "    result = 10 / 0  # This will raise a ZeroDivisionError\n",
    "except Exception as e:\n",
    "    # Code to handle the error\n",
    "    print(\"An error occurred:\", e)"
   ]
  },
  {
   "cell_type": "markdown",
   "id": "be5a05a6",
   "metadata": {},
   "source": [
    "14. What is the purpose of the try clause? What is the purpose of the except clause?\n",
    "\n",
    "Ans: The \"try\" clause allows us to execute code that might raise an exception, while the \"except\" clause provides a way to handle those exceptions gracefully, preventing the program from crashing abruptly and allowing to respond to unexpected situations in a controlled manner."
   ]
  }
 ],
 "metadata": {
  "kernelspec": {
   "display_name": "Python 3 (ipykernel)",
   "language": "python",
   "name": "python3"
  },
  "language_info": {
   "codemirror_mode": {
    "name": "ipython",
    "version": 3
   },
   "file_extension": ".py",
   "mimetype": "text/x-python",
   "name": "python",
   "nbconvert_exporter": "python",
   "pygments_lexer": "ipython3",
   "version": "3.11.5"
  }
 },
 "nbformat": 4,
 "nbformat_minor": 5
}
