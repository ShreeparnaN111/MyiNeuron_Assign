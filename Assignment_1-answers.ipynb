{
 "cells": [
  {
   "cell_type": "markdown",
   "metadata": {},
   "source": [
    "1. In the below elements which of them are values or an expression? eg:- values can be integer or string and expressions will be mathematical operators.\n",
    "* \n",
    "'hello'\n",
    "-87.8\n",
    "- \n",
    "/ \n",
    "+\t\n",
    "6 \n",
    "\n",
    "Ans: \n",
    "* \t:\tExpression (Multiplication)\n",
    "'hello'\t:\tValue (String)\n",
    "-87.8\t:\tValue (Floating point number)\n",
    "- \t:\tExpression (Subtraction)\n",
    "/ \t:\tExpression (Division)\n",
    "+\t:\tExpression (Addition)\n",
    "6 \t:\tValue (Integer)\n",
    "\n"
   ]
  },
  {
   "cell_type": "markdown",
   "metadata": {},
   "source": [
    "2. What is the difference between string and variable?\n",
    "\n",
    "Ans: A string is a specific type of data which is used to represent textual data or sequence of characters enclosed in quotation marks, either single ('') or double (\"\") and a variable is a named container which holds various types of data including strings, numbers, Booleans etc.\n",
    " \n"
   ]
  },
  {
   "cell_type": "code",
   "execution_count": 1,
   "metadata": {},
   "outputs": [],
   "source": [
    "name = \"Shree\"\n",
    "course = \"Data Science\"\n",
    "\n",
    "# Here, \"name\", \"course\" are variable names, which are holding strings 'shree' , \"Data Science\" respectively."
   ]
  },
  {
   "cell_type": "markdown",
   "metadata": {},
   "source": [
    "3. Describe three different data types.\n",
    "\n",
    "Ans: The three different data types are –\n"
   ]
  },
  {
   "cell_type": "code",
   "execution_count": null,
   "metadata": {},
   "outputs": [],
   "source": [
    "#i. Integers – This value is represented by int class. It contains positive or negative whole numbers (without fractions or decimals). In Python, there is no limit to how long an integer value can be.\n",
    "For example –\n",
    "x = 10\n",
    "y = -3\n",
    "\n",
    "#ii. Float – This value is represented by the float class. It is a real number with a floating-point representation. It is specified by a decimal point. \n",
    "For example –\n",
    "X = 10.0\n",
    "Y = -3.14\n",
    "\n",
    "#iii. List - List is an ordered collection of data, enclosed by the square brackets [], separated by commas (,). It can consist of same or different types of data. List values can be modified, hence it is mutable.\n",
    "For example - \n",
    "l1 = [\"Alice\", 20, -50, \"Bob\"]"
   ]
  },
  {
   "cell_type": "markdown",
   "metadata": {},
   "source": [
    "4. What is an expression made up of? What do all expressions do?\n",
    "\n",
    "Ans: In the Python programming language, an expression is a combination of values, variables, operators, and function calls that can be evaluated to produce a result that can be used in various ways, such as assigning to a variable, passing to a function, or using in a conditional statement. Expressions are the building blocks of Python programs and are used to perform computations, manipulate data and make decisions. \n",
    "\n",
    "Here are some examples of Python expressions:\n",
    "i) Numeric Expressions:\n",
    "5 + 3\n",
    "2 * (4 - 1)\n",
    "x / 2\n",
    "\n",
    "ii) String Expressions:\n",
    "\"Hello, \" + \"world!\"\n",
    "len(\"Python\")\n",
    "\n",
    "iii) Function Call Expressions:\n",
    "len(\"Hello\")\n",
    "math.sqrt(25)\n",
    "\n",
    "iv) Boolean Expressions:\n",
    "age > 18\n",
    "x == y\n",
    "\n",
    "v)Conditional Expressions (Ternary Operator):\n",
    "\"adult\" if age >= 18 else \"minor\"\n",
    "\n",
    "\n",
    "    "
   ]
  },
  {
   "cell_type": "markdown",
   "metadata": {},
   "source": [
    "5. This assignment statements, like spam = 10. What is the difference between an expression and a statement?\n",
    "\n",
    "Ans: An expression is made up of values, containers, and mathemacal operators(operands) e.g., a = 2 + 3. A statement is an instruction/command that the Python interpreter executes.“spam=10” is an example of assignment statement.\n",
    "\n",
    "\n",
    "The differences between an expression and a statement are as follows :"
   ]
  },
  {
   "cell_type": "markdown",
   "metadata": {},
   "source": [
    "•\tExpressions are used to compute and produce values. Statements are used to control the flow of a program, perform actions, and modify the program's state."
   ]
  },
  {
   "cell_type": "code",
   "execution_count": 2,
   "metadata": {},
   "outputs": [
    {
     "name": "stdout",
     "output_type": "stream",
     "text": [
      "Result is greater than 5\n"
     ]
    }
   ],
   "source": [
    "# Expression example\n",
    "result = 3 + 5  # This expression computes the value of 3 + 5 and assigns it to the variable 'result'\n",
    "\n",
    "# Statement example\n",
    "if result > 5:  # This is a statement that controls the flow of the program based on the value of 'result'\n",
    "    print(\"Result is greater than 5\")\n",
    "else:\n",
    "    print(\"Result is not greater than 5\")"
   ]
  },
  {
   "cell_type": "markdown",
   "metadata": {},
   "source": [
    "•\tExpressions always produce a value when evaluated. Statements do not necessarily produce a value."
   ]
  },
  {
   "cell_type": "code",
   "execution_count": 3,
   "metadata": {},
   "outputs": [
    {
     "name": "stdout",
     "output_type": "stream",
     "text": [
      "Hello, world!\n",
      "Statement result: None\n"
     ]
    }
   ],
   "source": [
    "# Expression example\n",
    "expression_result = 3 + 5  # This expression produces the value 8\n",
    "\n",
    "# Statement example\n",
    "statement_result = print(\"Hello, world!\")  # This statement performs an action (printing) but does not produce a value\n",
    "print(\"Statement result:\", statement_result)  # Output: Statement result: None"
   ]
  },
  {
   "cell_type": "markdown",
   "metadata": {},
   "source": [
    "•\tExpressions can be nested within other expressions.Statements can be nested within other statements."
   ]
  },
  {
   "cell_type": "code",
   "execution_count": null,
   "metadata": {},
   "outputs": [],
   "source": [
    "# Expression example\n",
    "nested_expression = (3 + (2 * 4))  # This expression nests the expression (2 * 4) within (3 + (2 * 4))\n",
    "\n",
    "# Statement example\n",
    "nested_statements = 10\n",
    "if nested_statements > 5:  # This statement nests another statement within it\n",
    "    print(\"Nested statement executed\")\n",
    "    nested_statements -= 5  # This statement is nested within the if statement\n",
    "    print(\"Nested statements value after modification:\", nested_statements)"
   ]
  },
  {
   "cell_type": "markdown",
   "metadata": {},
   "source": [
    "6. After running the following code, what does the variable bacon contain?\n",
    "bacon = 22\n",
    "bacon + 1\n",
    "\n",
    "Ans: After running the code the variable ‘bacon’ contains 22. The value 23 (result of 22 + 1) is not stored or used in any way. This is because the expression result is not assigned back to the bacon variable."
   ]
  },
  {
   "cell_type": "markdown",
   "metadata": {},
   "source": [
    "7. What should the values of the following two terms be?\n",
    "'spam' + 'spamspam'\n",
    "'spam' * 3\n",
    "\n",
    "Ans: 'spam' + 'spamspam' --> This concatenates two strings 'spam' and 'spamspam', resulting in 'spamspamspam'.\n",
    "'spam' * 3 --> This repeats the string 'spam' three times, resulting in 'spamspamspam'.\n",
    "Hence both terms yield the same value: 'spamspamspam'."
   ]
  },
  {
   "cell_type": "markdown",
   "metadata": {},
   "source": [
    "8. Why is eggs a valid variable name while 100 is invalid?\n",
    "\n",
    "Ans: Python variable names need to follow specific rules, such as - starting with a letter or underscore, not to use any keyword as variable name and not being solely composed of numbers. Hence “eggs” is a valid variable and “100” is invalid."
   ]
  },
  {
   "cell_type": "markdown",
   "metadata": {},
   "source": [
    "9. What three functions can be used to get the integer, floating-point number, or string version of a value?\n",
    "\n",
    "Ans: int(), float(), and str() functions can be used to get the integer, floating-point number, or string version of a value respectively."
   ]
  },
  {
   "cell_type": "code",
   "execution_count": 5,
   "metadata": {},
   "outputs": [
    {
     "name": "stdout",
     "output_type": "stream",
     "text": [
      "42\n",
      "3.14\n",
      "42\n"
     ]
    }
   ],
   "source": [
    "# int() function example\n",
    "num_str = \"42\"\n",
    "num_int = int(num_str)\n",
    "print(num_int)\n",
    "\n",
    "# float() function example\n",
    "num_str = \"3.14\"\n",
    "num_float = float(num_str)\n",
    "print(num_float)\n",
    "\n",
    "# str() function example\n",
    "num_int = 42\n",
    "num_str = str(num_int)\n",
    "print(num_str)\n"
   ]
  },
  {
   "cell_type": "markdown",
   "metadata": {},
   "source": [
    "10. Why does this expression cause an error? How can you fix it?\n",
    "'I have eaten ' + 99 + ' burritos.'\n",
    "\n",
    "Ans: The expression 'I have eaten ' + 99 + ' burritos.' causes an error because you are trying to concatenate a string ('I have eaten ') with an integer (99) using the + operator. In Python, the + operator is used for concatenating strings, but it cannot directly concatenate a string with an integer or other non-string types.\n",
    "\n",
    "To fix this error, you need to ensure that all the operands are of the same type (strings) before concatenating them. You can do this by converting the integer 99 to a string using the str() function.\n"
   ]
  },
  {
   "cell_type": "code",
   "execution_count": 8,
   "metadata": {},
   "outputs": [
    {
     "name": "stdout",
     "output_type": "stream",
     "text": [
      "I have eaten 99 burritos.\n"
     ]
    }
   ],
   "source": [
    "result = 'I have eaten ' + str(99) + ' burritos.'\n",
    "print(result)"
   ]
  }
 ],
 "metadata": {
  "kernelspec": {
   "display_name": "Python 3 (ipykernel)",
   "language": "python",
   "name": "python3"
  },
  "language_info": {
   "codemirror_mode": {
    "name": "ipython",
    "version": 3
   },
   "file_extension": ".py",
   "mimetype": "text/x-python",
   "name": "python",
   "nbconvert_exporter": "python",
   "pygments_lexer": "ipython3",
   "version": "3.11.5"
  }
 },
 "nbformat": 4,
 "nbformat_minor": 2
}
