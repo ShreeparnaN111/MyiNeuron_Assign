{
 "cells": [
  {
   "cell_type": "markdown",
   "id": "0683ad18",
   "metadata": {},
   "source": [
    "# 1.What are the two values of the Boolean data type? How do you write them?\n",
    "\n",
    "Ans: The two values of Boolean Data Type are True (when the condition is true/valid), False (when the condition is false/invalid). \n",
    "\n",
    "We can write it in 3 different ways:\n",
    "•\tBy assigning a True or False value to a variable\n",
    "•\tBy using a Python bool() constructor\n",
    "•\tBy using a boolean expression.\n",
    "\n"
   ]
  },
  {
   "cell_type": "code",
   "execution_count": 1,
   "id": "5289f483",
   "metadata": {},
   "outputs": [
    {
     "name": "stdout",
     "output_type": "stream",
     "text": [
      "True\n",
      "False\n"
     ]
    }
   ],
   "source": [
    "# assigning a True or False value\n",
    "\n",
    "is_sunny = True\n",
    "is_raining = False\n",
    "\n",
    "#Print variables:\n",
    "print(is_sunny)\n",
    "print(is_raining)"
   ]
  },
  {
   "cell_type": "code",
   "execution_count": 8,
   "id": "d548c60c",
   "metadata": {},
   "outputs": [
    {
     "name": "stdout",
     "output_type": "stream",
     "text": [
      "True True\n",
      "False False False\n"
     ]
    }
   ],
   "source": [
    "# using bool() constructor\n",
    "\n",
    "# (i) few examples of bool() with True arguments:\n",
    "\n",
    "b1 = bool(5) #Number\n",
    "b2 = bool('Python') #String\n",
    "\n",
    "print(b1, b2)\n",
    "\n",
    "# (ii) few examples of bool() with False arguments:\n",
    "\n",
    "b3 = bool(None) #None\n",
    "b4 = bool(0) #Zero\n",
    "b5 = bool([]) #Empty list\n",
    "\n",
    "print(b3, b4, b5)\n"
   ]
  },
  {
   "cell_type": "code",
   "execution_count": 9,
   "id": "7d22c689",
   "metadata": {},
   "outputs": [
    {
     "name": "stdout",
     "output_type": "stream",
     "text": [
      "True\n",
      "False\n"
     ]
    }
   ],
   "source": [
    "# using boolean expression\n",
    "\n",
    "x = 5\n",
    "y = 3\n",
    "\n",
    "#Print boolean\n",
    "print(x > y)\n",
    "print(x == y)\n"
   ]
  },
  {
   "cell_type": "markdown",
   "id": "9628d002",
   "metadata": {},
   "source": [
    "# 2. What are the three different types of Boolean operators?\n",
    "\n",
    "And: The three different types of boolean operators are as follows-\n",
    "\n",
    "1. Boolean AND Operator : It returns True, if all the given inputs are true. Otherwise, returns False."
   ]
  },
  {
   "cell_type": "code",
   "execution_count": 4,
   "id": "67a4d48e",
   "metadata": {},
   "outputs": [
    {
     "name": "stdout",
     "output_type": "stream",
     "text": [
      "True\n",
      "False\n"
     ]
    }
   ],
   "source": [
    "# Example \n",
    "\n",
    "a = 10\n",
    "b = 2\n",
    "c = 5\n",
    " \n",
    "if a > b and b<c:  # here, both conditions are true. Hence output is True.\n",
    "    print(True)\n",
    "else:\n",
    "    print(False)\n",
    "     \n",
    "if a > c and c > b and a < b: # here first 2 conditions are true, but third condition is false. Hence output is False\n",
    "    print(True)\n",
    "else:\n",
    "    print(False)"
   ]
  },
  {
   "cell_type": "markdown",
   "id": "f72bbb6b",
   "metadata": {},
   "source": [
    "2. Boolean OR Operator : It returs True if atleast 1 of the given inputs is true and returs False if all the given inputs are false."
   ]
  },
  {
   "cell_type": "code",
   "execution_count": 6,
   "id": "161f0873",
   "metadata": {},
   "outputs": [
    {
     "name": "stdout",
     "output_type": "stream",
     "text": [
      "True\n",
      "False\n"
     ]
    }
   ],
   "source": [
    "# Example \n",
    "\n",
    "a = 2\n",
    "b = 4\n",
    "c = 6\n",
    "\n",
    "if a > b or b > c or c > a: # here fisrt 2 conditions are false but third condition is true. Hence output is True.\n",
    "    print(True)\n",
    "else:\n",
    "    print(False)\n",
    "    \n",
    "if a > b or b > c or c < a: # here all the conditions are false, hence output is False.\n",
    "    print(True)\n",
    "else:\n",
    "    print(False)"
   ]
  },
  {
   "cell_type": "markdown",
   "id": "b65bf7af",
   "metadata": {},
   "source": [
    "3. Boolean NOT Operator : It only requires one argument and returns the opposite of the argument i.e. returns the True for False and False for True."
   ]
  },
  {
   "cell_type": "code",
   "execution_count": 9,
   "id": "f82a007c",
   "metadata": {},
   "outputs": [
    {
     "name": "stdout",
     "output_type": "stream",
     "text": [
      "Is it raining? True\n",
      "Is it not raining? False\n"
     ]
    }
   ],
   "source": [
    "is_raining = True\n",
    "is_not_raining = not is_raining  # here the NOT operator flips the value from True to False\n",
    "\n",
    "print(\"Is it raining?\", is_raining) # Displays the original value\n",
    "print(\"Is it not raining?\", is_not_raining)  # Displays the opposite/negated value"
   ]
  },
  {
   "cell_type": "markdown",
   "id": "5988da4c",
   "metadata": {},
   "source": [
    "# 3. Make a list of each Boolean operator's truth tables (i.e. every possible combination of Boolean values for the operator and what it evaluate ).\n",
    "\n",
    "Ans: \n",
    "AND Operator Truth Table:\n",
    "\n",
    "A\tB\tA AND B\n",
    "0\t0\t  0\n",
    "0\t1\t  0\n",
    "1\t0\t  0\n",
    "1\t1\t  1\n",
    "\n",
    "OR Operator Truth Table:\n",
    "\n",
    "A\tB\tA OR B\n",
    "0\t0\t  0\n",
    "0\t1\t  1\n",
    "1\t0\t  1\n",
    "1   1     1\n",
    "\n",
    "NOT Operator Truth Table:\n",
    "\n",
    "A\tNOT A\n",
    "0\t 1\n",
    "1\t 0\n"
   ]
  },
  {
   "cell_type": "markdown",
   "id": "2ac06a65",
   "metadata": {},
   "source": [
    "# 4. What are the values of the following expressions?\n",
    "(5 > 4) and (3 == 5)\n",
    "not (5 > 4)\n",
    "(5 > 4) or (3 == 5)\n",
    "not ((5 > 4) or (3 == 5))\n",
    "(True and True) and (True == False)\n",
    "(not False) or (not True)\n",
    "\n",
    "Ans: \n",
    "(5 > 4) and (3 == 5)\n",
    "-> True and False -> False\n",
    "\n",
    "not (5 > 4) \n",
    "-> not True -> False\n",
    "\n",
    "(5 > 4) or (3 == 5) \n",
    "-> True or False -> True\n",
    "\n",
    "not ((5 > 4) or (3 == 5))\n",
    "-> not (True or False) -> not True -> False\n",
    "\n",
    "(True and True) and (True == False) \n",
    "-> True and False -> False\n",
    "\n",
    "(not False) or (not True)\n",
    "-> True or False -> True\n",
    "\n"
   ]
  },
  {
   "cell_type": "markdown",
   "id": "7e1cc3c1",
   "metadata": {},
   "source": [
    "# 5. What are the six comparison operators?\n",
    "\n",
    "Ans:\n",
    "1. == (Equal to)\n",
    "2. != (Not equal to)\n",
    "3. > (Greater than)\n",
    "4. < (Less than)\n",
    "5. >= (Greater than or equal to)\n",
    "6. <= (Less than or equal to)"
   ]
  },
  {
   "cell_type": "markdown",
   "id": "63707f6d",
   "metadata": {},
   "source": [
    "# 6. How do you tell the difference between the equal to and assignment operators? Describe a condition and when you would use one.\n",
    "\n",
    "Ans: The equal to (==) operator is used to check the equality. When values on both side are equal, it returns True. Otherwise it returns False"
   ]
  },
  {
   "cell_type": "code",
   "execution_count": 23,
   "id": "1c46c3fc",
   "metadata": {},
   "outputs": [
    {
     "name": "stdout",
     "output_type": "stream",
     "text": [
      "Enter your password: password123\n",
      "Access granted.\n"
     ]
    }
   ],
   "source": [
    "#Example\n",
    "b = 40\n",
    "\n",
    "a == b # since both the values of a and b are different, == operator returns False.\n",
    "\n",
    "#Example Condition Using ==:\n",
    "'''\n",
    "lets take a login system scenario, where the user needs to enter the correct password \"password123\" \n",
    "then only access will be granted. Otherwise, access will be denied.\n",
    "'''\n",
    "user_input = input(\"Enter your password: \")\n",
    "correct_password = \"password123\"\n",
    "\n",
    "if user_input == correct_password:\n",
    "    print(\"Access granted.\")\n",
    "else:\n",
    "    print(\"Access denied.\")\n"
   ]
  },
  {
   "cell_type": "markdown",
   "id": "80ba9805",
   "metadata": {},
   "source": [
    " However, assignment operator (=) assigns value to a variable."
   ]
  },
  {
   "cell_type": "code",
   "execution_count": 24,
   "id": "c7d88b2e",
   "metadata": {},
   "outputs": [
    {
     "name": "stdout",
     "output_type": "stream",
     "text": [
      "The sum of 10 and 5 is: 15\n"
     ]
    }
   ],
   "source": [
    "#Example\n",
    "a = 10  # This assigns the value 10 to the variable a\n",
    "b = a  # This assigns the value of a (which is 10) to the variable b\n",
    "\n",
    "#Example Condition Using =:\n",
    "'''\n",
    "Suppose we need to calculate the sum of 2 numbers. So in this case, we need to assign value to each variable, \n",
    "then perform addition and store the result.\n",
    "'''\n",
    "# Assign values to variables\n",
    "num1 = 10\n",
    "num2 = 5\n",
    "\n",
    "# Calculate the sum and store it in a result variable\n",
    "result = num1 + num2\n",
    "\n",
    "# Display the result\n",
    "print(\"The sum of\", num1, \"and\", num2, \"is:\", result)\n"
   ]
  },
  {
   "cell_type": "markdown",
   "id": "bac36593",
   "metadata": {},
   "source": [
    "# 7. Identify the three blocks in this code:\n",
    "spam = 0\n",
    "if spam == 10:\n",
    "print('eggs')\n",
    "if spam > 5:\n",
    "print('bacon')\n",
    "else:\n",
    "print('ham')\n",
    "print('spam')\n",
    "print('spam')\n"
   ]
  },
  {
   "cell_type": "code",
   "execution_count": 25,
   "id": "540c6e45",
   "metadata": {},
   "outputs": [
    {
     "name": "stdout",
     "output_type": "stream",
     "text": [
      "ham\n",
      "spam\n",
      "spam\n"
     ]
    }
   ],
   "source": [
    "#Ans:\n",
    "\n",
    "spam = 0\n",
    "\n",
    "if spam == 10:\n",
    "    print('eggs')  # Block 1 (associated with the first 'if' condition)\n",
    "\n",
    "if spam > 5:\n",
    "    print('bacon')  # Block 2 (associated with the second 'if' condition)\n",
    "else:\n",
    "    print('ham')  # Block 3 (associated with the 'else' statement)\n",
    "\n",
    "print('spam')  # This line is not indented and is outside all blocks\n",
    "print('spam')  # This line is also not indented and is outside all blocks\n"
   ]
  },
  {
   "cell_type": "markdown",
   "id": "5fb28461",
   "metadata": {},
   "source": [
    "# 8. Write code that prints Hello if 1 is stored in spam, prints Howdy if 2 is stored in spam, and prints Greetings! if anything else is stored in spam."
   ]
  },
  {
   "cell_type": "code",
   "execution_count": 2,
   "id": "218a3aba",
   "metadata": {},
   "outputs": [
    {
     "name": "stdout",
     "output_type": "stream",
     "text": [
      "6\n",
      "Greeetings!\n"
     ]
    }
   ],
   "source": [
    "#Ans:\n",
    "\n",
    "spam = int(input())\n",
    "if spam == 1:\n",
    "    print(\"Hello\")\n",
    "elif spam == 2:\n",
    "    print(\"Howdy\")\n",
    "    \n",
    "else:\n",
    "    print(\"Greeetings!\")\n"
   ]
  },
  {
   "cell_type": "markdown",
   "id": "149d608b",
   "metadata": {},
   "source": [
    "# 9.If your programme is stuck in an endless loop, what keys you’ll press?\n",
    "\n",
    "#Ans: We need to press Ctrl + C for Windows/Linux operating system and Command + C for Mac operating system, if the programme is stuck in an endless loop. \n"
   ]
  },
  {
   "cell_type": "markdown",
   "id": "d19a66da",
   "metadata": {},
   "source": [
    "# 10. How can you tell the difference between break and continue?\n",
    "\n",
    "#Ans: The break statement breaks out or exists the loop entirely, regardless of any remaining iterations and continue statement skips certain iterations and immediately moves to the next iteration of the loop."
   ]
  },
  {
   "cell_type": "code",
   "execution_count": 4,
   "id": "d31e3779",
   "metadata": {},
   "outputs": [
    {
     "name": "stdout",
     "output_type": "stream",
     "text": [
      "0\n",
      "1\n",
      "2\n"
     ]
    }
   ],
   "source": [
    "# example of break statement\n",
    "\n",
    "for i in range(5):\n",
    "    if i == 3:\n",
    "        break\n",
    "    print(i)\n",
    "    \n",
    "    \n"
   ]
  },
  {
   "cell_type": "code",
   "execution_count": 6,
   "id": "48bce8f8",
   "metadata": {},
   "outputs": [
    {
     "name": "stdout",
     "output_type": "stream",
     "text": [
      "0\n",
      "1\n",
      "3\n",
      "4\n"
     ]
    }
   ],
   "source": [
    "# Example of continue statement\n",
    "\n",
    "for i in range(5):\n",
    "    if i == 2:\n",
    "        continue\n",
    "    print(i)"
   ]
  },
  {
   "cell_type": "markdown",
   "id": "ee6823f2",
   "metadata": {},
   "source": [
    "# 11. In a for loop, what is the difference between range(10), range(0, 10), and range(0, 10, 1)?\n",
    "\n",
    "#Ans: All the three expressions are equivalent and will produce the same result.\n",
    "\n",
    "range(10):\n",
    "This form of range() starts at 0 by default and generates numbers up to 9 (the specified number (in this case 10) - 1)\n",
    "\n",
    "range(0, 10):\n",
    "This explicitly specifies the starting and ending values for the sequence.\n",
    "\n",
    "range(0, 10, 1):\n",
    "This form of range() also explicitly specifies the start and end values. Along with that, it also includes a step value.\n",
    "In this case, the step is 1. So it generates numbers in increments of 1."
   ]
  },
  {
   "cell_type": "markdown",
   "id": "b80746c2",
   "metadata": {},
   "source": [
    "# Write a short program that prints the numbers 1 to 10 using a for loop. Then write an equivalent program that prints the numbers 1 to 10 using a while loop.\n",
    "\n",
    "#Ans: "
   ]
  },
  {
   "cell_type": "code",
   "execution_count": 17,
   "id": "36fba76f",
   "metadata": {},
   "outputs": [
    {
     "name": "stdout",
     "output_type": "stream",
     "text": [
      "1\n",
      "2\n",
      "3\n",
      "4\n",
      "5\n",
      "6\n",
      "7\n",
      "8\n",
      "9\n",
      "10\n",
      "\n",
      "\n",
      "1\n",
      "2\n",
      "3\n",
      "4\n",
      "5\n",
      "6\n",
      "7\n",
      "8\n",
      "9\n",
      "10\n"
     ]
    }
   ],
   "source": [
    "for i in range(1, 11):\n",
    "    print(i)\n",
    "print(\"\\n\")\n",
    "\n",
    "i = 1\n",
    "while i < 11:\n",
    "    print(i)\n",
    "    i = i + 1"
   ]
  },
  {
   "cell_type": "markdown",
   "id": "b0253483",
   "metadata": {},
   "source": [
    "# 13. If you had a function named bacon() inside a module named spam, how would you call it after importing spam?\n",
    "\n",
    "#Ans: \n",
    "-->Syntax to import the module\n",
    "import spam\n",
    "\n",
    "-->Syntax to call the function\n",
    "spam.bacon() "
   ]
  }
 ],
 "metadata": {
  "kernelspec": {
   "display_name": "Python 3 (ipykernel)",
   "language": "python",
   "name": "python3"
  },
  "language_info": {
   "codemirror_mode": {
    "name": "ipython",
    "version": 3
   },
   "file_extension": ".py",
   "mimetype": "text/x-python",
   "name": "python",
   "nbconvert_exporter": "python",
   "pygments_lexer": "ipython3",
   "version": "3.9.13"
  }
 },
 "nbformat": 4,
 "nbformat_minor": 5
}
